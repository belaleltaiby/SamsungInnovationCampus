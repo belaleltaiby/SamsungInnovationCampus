{
 "cells": [
  {
   "cell_type": "code",
   "execution_count": 1,
   "id": "f4d345be",
   "metadata": {},
   "outputs": [],
   "source": [
    "from pyspark.ml.linalg import Vectors \n",
    "from pyspark.ml.classification import LogisticRegression \n",
    "#training data with label and features \n",
    "training = spark.createDataFrame([ \n",
    " (1.0, Vectors.dense([0.0, 1.1, 0.1])), \n",
    " (0.0, Vectors.dense([2.0, 1.0, -1.0])), \n",
    " (0.0, Vectors.dense([2.0, 1.3, 1.0])), \n",
    " (1.0, Vectors.dense([0.0, 1.2, -0.5]))], [\"label\", \"features\"]) \n"
   ]
  },
  {
   "cell_type": "code",
   "execution_count": 2,
   "id": "03a47e7c",
   "metadata": {},
   "outputs": [
    {
     "name": "stderr",
     "output_type": "stream",
     "text": [
      "2024-09-24 11:17:09,636 WARN netlib.BLAS: Failed to load implementation from: com.github.fommil.netlib.NativeSystemBLAS\n",
      "2024-09-24 11:17:09,637 WARN netlib.BLAS: Failed to load implementation from: com.github.fommil.netlib.NativeRefBLAS\n"
     ]
    }
   ],
   "source": [
    "lr = LogisticRegression(maxIter=10, regParam=0.01) \n",
    "Model1=lr.fit(training) \n"
   ]
  },
  {
   "cell_type": "code",
   "execution_count": 3,
   "id": "6926b4aa",
   "metadata": {},
   "outputs": [
    {
     "name": "stdout",
     "output_type": "stream",
     "text": [
      "+-----+--------------+\n",
      "|label|features      |\n",
      "+-----+--------------+\n",
      "|1.0  |[0.0,1.1,0.1] |\n",
      "|0.0  |[2.0,1.0,-1.0]|\n",
      "|0.0  |[2.0,1.3,1.0] |\n",
      "|1.0  |[0.0,1.2,-0.5]|\n",
      "+-----+--------------+\n",
      "\n"
     ]
    }
   ],
   "source": [
    "training.show(10,False) \n"
   ]
  },
  {
   "cell_type": "code",
   "execution_count": 4,
   "id": "57bda588",
   "metadata": {},
   "outputs": [],
   "source": [
    "paramMap = {lr.maxIter: 20} \n",
    "paramMap[lr.maxIter] = 30 # Specify 1 Param, overwriting the original maxIter. \n",
    "# Specify multiple Params. \n",
    "paramMap.update({lr.regParam: 0.1, lr.threshold: 0.55}) \n",
    "paramMap2 = {lr.probabilityCol: \"myProbability\"} # type: ignore \n",
    "paramMapCombined = paramMap.copy() \n",
    "paramMapCombined.update(paramMap2) # type: ignore \n",
    "# paramMapCombined overrides all parameters set earlier via lr.set* methods. \n",
    "model2 = lr.fit(training, paramMapCombined)"
   ]
  },
  {
   "cell_type": "code",
   "execution_count": 7,
   "id": "ea1544aa",
   "metadata": {},
   "outputs": [
    {
     "name": "stdout",
     "output_type": "stream",
     "text": [
      "features=[-1.0,1.5,1.3], label=1.0 -> prob=[0.0570730417103402,0.9429269582896598], prediction=1.0\n",
      "features=[3.0,2.0,-0.1], label=0.0 -> prob=[0.9238522311704105,0.07614776882958951], prediction=0.0\n",
      "features=[0.0,2.2,-1.5], label=1.0 -> prob=[0.10972776114779453,0.8902722388522055], prediction=1.0\n"
     ]
    }
   ],
   "source": [
    " test = spark.createDataFrame([ \n",
    " (1.0, Vectors.dense([-1.0, 1.5, 1.3])), \n",
    " (0.0, Vectors.dense([3.0, 2.0, -0.1])), \n",
    " (1.0, Vectors.dense([0.0, 2.2, -1.5]))], [\"label\", \"features\"]) \n",
    "# Make predictions on test data using the Transformer.transform() method. \n",
    "# LogisticRegression.transform will only use the 'features' column. \n",
    "# Note that model2.transform() outputs a \"myProbability\" column instead of the usual \n",
    "# 'probability' column since we renamed the lr.probabilityCol parameter previously. \n",
    "prediction = model2.transform(test) \n",
    "result = prediction.select(\"features\", \"label\", \"myProbability\", \"prediction\").collect() \n",
    "for row in result: \n",
    "    print(\"features=%s, label=%s -> prob=%s, prediction=%s\" \n",
    " % (row.features, row.label, row.myProbability, row.prediction)) \n"
   ]
  },
  {
   "cell_type": "code",
   "execution_count": null,
   "id": "bad19825",
   "metadata": {},
   "outputs": [],
   "source": []
  }
 ],
 "metadata": {
  "kernelspec": {
   "display_name": "Python 3 (ipykernel)",
   "language": "python",
   "name": "python3"
  },
  "language_info": {
   "codemirror_mode": {
    "name": "ipython",
    "version": 3
   },
   "file_extension": ".py",
   "mimetype": "text/x-python",
   "name": "python",
   "nbconvert_exporter": "python",
   "pygments_lexer": "ipython3",
   "version": "3.8.11"
  }
 },
 "nbformat": 4,
 "nbformat_minor": 5
}
