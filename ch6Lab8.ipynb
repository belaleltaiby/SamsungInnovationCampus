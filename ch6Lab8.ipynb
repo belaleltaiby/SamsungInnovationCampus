{
 "cells": [
  {
   "cell_type": "code",
   "execution_count": 4,
   "id": "72e1029f",
   "metadata": {},
   "outputs": [
    {
     "name": "stdout",
     "output_type": "stream",
     "text": [
      "+---+----------+----------+--------------------+----------+--------------------+\n",
      "| id|first_name| last_name|               email| birthdate|               added|\n",
      "+---+----------+----------+--------------------+----------+--------------------+\n",
      "|  1|    Walton|     Adams|barmstrong@exampl...|1989-03-01|1997-01-02 04:18:...|\n",
      "|  2|  Marietta|     Walsh|hand.stella@examp...|2018-05-30|2010-08-26 18:20:...|\n",
      "|  3|      Lily|Wintheiser|darren.blanda@exa...|1981-08-21|1973-06-11 07:28:...|\n",
      "|  4|   Estevan|   Gleason|shanahan.aliyah@e...|2013-07-17|1995-01-29 16:08:...|\n",
      "|  5|  Thaddeus|      Rowe|bednar.robin@exam...|2019-02-26|2017-01-05 04:13:...|\n",
      "+---+----------+----------+--------------------+----------+--------------------+\n",
      "only showing top 5 rows\n",
      "\n"
     ]
    }
   ],
   "source": [
    "authorDF = spark.read.table(\"mydb.authors\")\n",
    "authorDF.show(5)"
   ]
  },
  {
   "cell_type": "code",
   "execution_count": 5,
   "id": "01d08558",
   "metadata": {},
   "outputs": [
    {
     "name": "stdout",
     "output_type": "stream",
     "text": [
      "+----------+--------------------+----------+\n",
      "|first_name|               email| birthdate|\n",
      "+----------+--------------------+----------+\n",
      "|    Walton|barmstrong@exampl...|1989-03-01|\n",
      "|  Marietta|hand.stella@examp...|2018-05-30|\n",
      "|      Lily|darren.blanda@exa...|1981-08-21|\n",
      "|   Estevan|shanahan.aliyah@e...|2013-07-17|\n",
      "|  Thaddeus|bednar.robin@exam...|2019-02-26|\n",
      "+----------+--------------------+----------+\n",
      "only showing top 5 rows\n",
      "\n"
     ]
    }
   ],
   "source": [
    "authorDF = spark.read.table(\"mydb.authors\").select(\"first_name\",\"email\",\"birthdate\")\n",
    "\n",
    "authorDF.show(5)"
   ]
  },
  {
   "cell_type": "code",
   "execution_count": 6,
   "id": "e394429b",
   "metadata": {},
   "outputs": [
    {
     "name": "stdout",
     "output_type": "stream",
     "text": [
      "+----------+--------------------+----------+\n",
      "|first_name|               email| birthdate|\n",
      "+----------+--------------------+----------+\n",
      "|  Roderick|bobby.conroy@exam...|1970-01-01|\n",
      "|   Jeffery| verla17@example.org|1970-01-02|\n",
      "|   Mikayla|  xwalsh@example.org|1970-01-05|\n",
      "|       Lew|  emie19@example.net|1970-01-06|\n",
      "|   Shannon|michele48@example...|1970-01-10|\n",
      "+----------+--------------------+----------+\n",
      "only showing top 5 rows\n",
      "\n"
     ]
    }
   ],
   "source": [
    "authorDF = spark.read.table(\"mydb.authors\")\\\n",
    ".select(\"first_name\",\"email\",\"birthdate\").orderBy(\"birthdate\")\n",
    "\n",
    "authorDF.show(5)"
   ]
  },
  {
   "cell_type": "code",
   "execution_count": 7,
   "id": "31b578c1",
   "metadata": {},
   "outputs": [
    {
     "name": "stdout",
     "output_type": "stream",
     "text": [
      "+----------+--------------------+----------+\n",
      "|first_name|               email| birthdate|\n",
      "+----------+--------------------+----------+\n",
      "|  Roderick|bobby.conroy@exam...|1970-01-01|\n",
      "|   Jeffery| verla17@example.org|1970-01-02|\n",
      "|   Mikayla|  xwalsh@example.org|1970-01-05|\n",
      "+----------+--------------------+----------+\n",
      "\n"
     ]
    }
   ],
   "source": [
    "authorDF = spark.read.table(\"mydb.authors\")\\\n",
    ".select(\"first_name\",\"email\",\"birthdate\").orderBy(\"birthdate\").limit(3)\n",
    "\n",
    "authorDF.show(5)"
   ]
  },
  {
   "cell_type": "code",
   "execution_count": 8,
   "id": "d30fe423",
   "metadata": {},
   "outputs": [
    {
     "name": "stdout",
     "output_type": "stream",
     "text": [
      "+----------+--------------------+----------+\n",
      "|first_name|               email| birthdate|\n",
      "+----------+--------------------+----------+\n",
      "|Earnestine|junius98@example.net|2000-01-01|\n",
      "|      Zoie|    jorn@example.org|2000-01-04|\n",
      "|  Izabella|xmacejkovic@examp...|2000-01-07|\n",
      "|    Maryse|nella.grant@examp...|2000-01-07|\n",
      "|   Xzavier|josefina.lynch@ex...|2000-01-10|\n",
      "+----------+--------------------+----------+\n",
      "only showing top 5 rows\n",
      "\n"
     ]
    }
   ],
   "source": [
    "authorDF = spark.read.table(\"mydb.authors\")\\\n",
    ".select(\"first_name\",\"email\",\"birthdate\")\\\n",
    ".where(\"birthdate >='2000-01-01'\")\\\n",
    ".orderBy(\"birthdate\")\n",
    "\n",
    "authorDF.show(5)"
   ]
  },
  {
   "cell_type": "code",
   "execution_count": 9,
   "id": "efeb2388",
   "metadata": {},
   "outputs": [],
   "source": [
    "##########2#####"
   ]
  },
  {
   "cell_type": "code",
   "execution_count": 13,
   "id": "25c60d29",
   "metadata": {},
   "outputs": [
    {
     "name": "stdout",
     "output_type": "stream",
     "text": [
      "root\n",
      " |-- Region: string (nullable = true)\n",
      " |-- Country: string (nullable = true)\n",
      " |-- ItemType: string (nullable = true)\n",
      " |-- SalesChannel: string (nullable = true)\n",
      " |-- OrderPriority: string (nullable = true)\n",
      " |-- UnitsSold: string (nullable = true)\n",
      " |-- UnitPrice: string (nullable = true)\n",
      " |-- UnitCost: string (nullable = true)\n",
      " |-- TotalRevenue: string (nullable = true)\n",
      " |-- TotalCost: string (nullable = true)\n",
      " |-- TotalProfit: string (nullable = true)\n",
      "\n",
      "+--------------------+-------+----------+------------+-------------+---------+---------+--------+------------+----------+-----------+\n",
      "|              Region|Country|  ItemType|SalesChannel|OrderPriority|UnitsSold|UnitPrice|UnitCost|TotalRevenue| TotalCost|TotalProfit|\n",
      "+--------------------+-------+----------+------------+-------------+---------+---------+--------+------------+----------+-----------+\n",
      "|Middle East and N...|  Libya| Cosmetics|     Offline|            M|     8446|    437.2|  263.33|   3692591.2|2224085.18| 1468506.02|\n",
      "|       North America| Canada|Vegetables|      Online|            M|     3018|   154.06|   90.93|   464953.08| 274426.74|  190526.34|\n",
      "|Middle East and N...|  Libya| Baby Food|     Offline|            C|     1517|   255.28|  159.42|   387259.76| 241840.14|  145419.62|\n",
      "|                Asia|  Japan|    Cereal|     Offline|            C|     3322|    205.7|  117.11|    683335.4| 389039.42|  294295.98|\n",
      "|  Sub-Saharan Africa|   Chad|    Fruits|     Offline|            H|     9845|     9.33|    6.92|    91853.85|   68127.4|   23726.45|\n",
      "+--------------------+-------+----------+------------+-------------+---------+---------+--------+------------+----------+-----------+\n",
      "only showing top 5 rows\n",
      "\n"
     ]
    }
   ],
   "source": [
    "salesDF = spark.read.option(\"header\",\"true\").csv(\"sales.csv\")\n",
    "salesDF.printSchema()\n",
    "salesDF.show(5)"
   ]
  },
  {
   "cell_type": "code",
   "execution_count": 16,
   "id": "770cafa5",
   "metadata": {},
   "outputs": [
    {
     "name": "stdout",
     "output_type": "stream",
     "text": [
      "root\n",
      " |-- Country: string (nullable = true)\n",
      " |-- UnitsSold: string (nullable = true)\n",
      " |-- UnitPrice: string (nullable = true)\n",
      " |-- UnitCost: string (nullable = true)\n",
      "\n",
      "+-------+---------+---------+--------+\n",
      "|Country|UnitsSold|UnitPrice|UnitCost|\n",
      "+-------+---------+---------+--------+\n",
      "|  Libya|     8446|    437.2|  263.33|\n",
      "| Canada|     3018|   154.06|   90.93|\n",
      "|  Libya|     1517|   255.28|  159.42|\n",
      "|  Japan|     3322|    205.7|  117.11|\n",
      "|   Chad|     9845|     9.33|    6.92|\n",
      "+-------+---------+---------+--------+\n",
      "only showing top 5 rows\n",
      "\n"
     ]
    }
   ],
   "source": [
    "salesPartDF =  salesDF.select(\"Country\",\"UnitsSold\",\"UnitPrice\",\"UnitCost\")\n",
    "salesPartDF.printSchema()\n",
    "salesPartDF.show(5)"
   ]
  },
  {
   "cell_type": "code",
   "execution_count": 17,
   "id": "73af0e91",
   "metadata": {
    "scrolled": true
   },
   "outputs": [
    {
     "name": "stdout",
     "output_type": "stream",
     "text": [
      "root\n",
      " |-- Country: string (nullable = true)\n",
      " |-- (CAST(UnitsSold AS FLOAT) * CAST(UnitPrice AS FLOAT)): float (nullable = true)\n",
      "\n",
      "+-------+-----------------------------------------------------+\n",
      "|Country|(CAST(UnitsSold AS FLOAT) * CAST(UnitPrice AS FLOAT))|\n",
      "+-------+-----------------------------------------------------+\n",
      "|  Libya|                                            3692591.2|\n",
      "| Canada|                                            464953.06|\n",
      "|  Libya|                                            387259.75|\n",
      "|  Japan|                                             683335.4|\n",
      "|   Chad|                                             91853.85|\n",
      "+-------+-----------------------------------------------------+\n",
      "only showing top 5 rows\n",
      "\n"
     ]
    }
   ],
   "source": [
    "calcRevDf = salesPartDF\\\n",
    "    .select(salesDF.Country,salesDF.UnitsSold.cast(\"float\")*salesDF.UnitPrice.cast(\"float\"))\n",
    "\n",
    "calcRevDf.printSchema()\n",
    "calcRevDf.show(5)"
   ]
  },
  {
   "cell_type": "code",
   "execution_count": 23,
   "id": "dd091a50",
   "metadata": {},
   "outputs": [
    {
     "name": "stdout",
     "output_type": "stream",
     "text": [
      "Column<'(CAST(UnitsSold AS FLOAT) * CAST(UnitPrice AS FLOAT))'>\n"
     ]
    }
   ],
   "source": [
    "calcRevenue = salesDF.UnitsSold.cast(\"float\")*salesDF.UnitPrice.cast(\"float\")\n",
    "print(calcRevenue)"
   ]
  },
  {
   "cell_type": "code",
   "execution_count": 25,
   "id": "bcb0f066",
   "metadata": {},
   "outputs": [
    {
     "name": "stdout",
     "output_type": "stream",
     "text": [
      "root\n",
      " |-- Country: string (nullable = true)\n",
      " |-- Sales_Revenue: float (nullable = true)\n",
      "\n",
      "+-------+-------------+\n",
      "|Country|Sales_Revenue|\n",
      "+-------+-------------+\n",
      "|  Libya|    3692591.2|\n",
      "| Canada|    464953.06|\n",
      "|  Libya|    387259.75|\n",
      "|  Japan|     683335.4|\n",
      "|   Chad|     91853.85|\n",
      "+-------+-------------+\n",
      "only showing top 5 rows\n",
      "\n"
     ]
    }
   ],
   "source": [
    "calcRevDf = salesPartDF\\\n",
    "    .select(salesDF.Country,calcRevenue.alias(\"Sales_Revenue\"))\n",
    "\n",
    "calcRevDf.printSchema()\n",
    "calcRevDf.show(5)\n"
   ]
  },
  {
   "cell_type": "code",
   "execution_count": 27,
   "id": "c2ef6d16",
   "metadata": {},
   "outputs": [
    {
     "name": "stdout",
     "output_type": "stream",
     "text": [
      "root\n",
      " |-- Country: string (nullable = true)\n",
      " |-- ItemType: string (nullable = true)\n",
      " |-- Sales_Revenue: float (nullable = true)\n",
      "\n",
      "+-------+----------+-------------+\n",
      "|Country|  ItemType|Sales_Revenue|\n",
      "+-------+----------+-------------+\n",
      "|  Libya| Cosmetics|    3692591.2|\n",
      "| Canada|Vegetables|    464953.06|\n",
      "|  Libya| Baby Food|    387259.75|\n",
      "|  Japan|    Cereal|     683335.4|\n",
      "|   Chad|    Fruits|     91853.85|\n",
      "+-------+----------+-------------+\n",
      "only showing top 5 rows\n",
      "\n"
     ]
    }
   ],
   "source": [
    "revItemCountryDF =salesDF.select(salesDF.Country,salesDF.ItemType,calcRevenue.alias(\"Sales_Revenue\"))\n",
    "\n",
    "revItemCountryDF.printSchema()\n",
    "revItemCountryDF.show(5)"
   ]
  },
  {
   "cell_type": "code",
   "execution_count": 28,
   "id": "069af017",
   "metadata": {},
   "outputs": [
    {
     "name": "stdout",
     "output_type": "stream",
     "text": [
      "root\n",
      " |-- Country: string (nullable = true)\n",
      " |-- ItemType: string (nullable = true)\n",
      " |-- Sales_Revenue: float (nullable = true)\n",
      " |-- Quota_Met: boolean (nullable = true)\n",
      "\n",
      "+-------+----------+-------------+---------+\n",
      "|Country|  ItemType|Sales_Revenue|Quota_Met|\n",
      "+-------+----------+-------------+---------+\n",
      "|  Libya| Cosmetics|    3692591.2|     true|\n",
      "| Canada|Vegetables|    464953.06|    false|\n",
      "|  Libya| Baby Food|    387259.75|    false|\n",
      "|  Japan|    Cereal|     683335.4|    false|\n",
      "|   Chad|    Fruits|     91853.85|    false|\n",
      "+-------+----------+-------------+---------+\n",
      "only showing top 5 rows\n",
      "\n"
     ]
    }
   ],
   "source": [
    "quota = 3000000\n",
    "quotaMet = (revItemCountryDF.Sales_Revenue > quota)\n",
    "revItemCountryQoutaDF = revItemCountryDF.withColumn(\"Quota_Met\",quotaMet)\n",
    "revItemCountryQoutaDF.printSchema()\n",
    "revItemCountryQoutaDF.show(5)\n"
   ]
  },
  {
   "cell_type": "code",
   "execution_count": 29,
   "id": "b2cc677f",
   "metadata": {},
   "outputs": [],
   "source": [
    "#2.6"
   ]
  },
  {
   "cell_type": "code",
   "execution_count": 32,
   "id": "d54a929a",
   "metadata": {},
   "outputs": [
    {
     "name": "stdout",
     "output_type": "stream",
     "text": [
      "root\n",
      " |-- Region: string (nullable = true)\n",
      " |-- Country: string (nullable = true)\n",
      " |-- ItemType: string (nullable = true)\n",
      " |-- SalesChannel: string (nullable = true)\n",
      " |-- OrderPriority: string (nullable = true)\n",
      " |-- UnitsSold: string (nullable = true)\n",
      " |-- UnitPrice: string (nullable = true)\n",
      " |-- UnitCost: string (nullable = true)\n",
      " |-- TotalRevenue: string (nullable = true)\n",
      " |-- TotalCost: string (nullable = true)\n",
      " |-- TotalProfit: string (nullable = true)\n",
      " |-- Sales_Revenue: double (nullable = true)\n",
      " |-- Qouta_Met: boolean (nullable = true)\n",
      "\n",
      "+--------------------+-------+----------+------------+-------------+---------+---------+--------+------------+----------+-----------+------------------+---------+\n",
      "|              Region|Country|  ItemType|SalesChannel|OrderPriority|UnitsSold|UnitPrice|UnitCost|TotalRevenue| TotalCost|TotalProfit|     Sales_Revenue|Qouta_Met|\n",
      "+--------------------+-------+----------+------------+-------------+---------+---------+--------+------------+----------+-----------+------------------+---------+\n",
      "|Middle East and N...|  Libya| Cosmetics|     Offline|            M|     8446|    437.2|  263.33|   3692591.2|2224085.18| 1468506.02|3692591.1999999997|     true|\n",
      "|       North America| Canada|Vegetables|      Online|            M|     3018|   154.06|   90.93|   464953.08| 274426.74|  190526.34|         464953.08|    false|\n",
      "|Middle East and N...|  Libya| Baby Food|     Offline|            C|     1517|   255.28|  159.42|   387259.76| 241840.14|  145419.62|         387259.76|    false|\n",
      "|                Asia|  Japan|    Cereal|     Offline|            C|     3322|    205.7|  117.11|    683335.4| 389039.42|  294295.98| 683335.3999999999|    false|\n",
      "|  Sub-Saharan Africa|   Chad|    Fruits|     Offline|            H|     9845|     9.33|    6.92|    91853.85|   68127.4|   23726.45|          91853.85|     true|\n",
      "+--------------------+-------+----------+------------+-------------+---------+---------+--------+------------+----------+-----------+------------------+---------+\n",
      "only showing top 5 rows\n",
      "\n"
     ]
    }
   ],
   "source": [
    "amtQouta = 3000000\n",
    "cntQouta = 5000\n",
    "\n",
    "salesRevenue = salesDF.UnitsSold * salesDF.UnitPrice\n",
    "qoutaMet = (salesRevenue > amtQouta) | (salesDF.UnitsSold > cntQouta)\n",
    "\n",
    "revItemCountryQoutaDF = salesDF.withColumn(\"Sales_Revenue\",salesRevenue)\\\n",
    "        .withColumn(\"Qouta_Met\", qoutaMet)\n",
    "\n",
    "revItemCountryQoutaDF.printSchema()\n",
    "revItemCountryQoutaDF.show(5)"
   ]
  },
  {
   "cell_type": "code",
   "execution_count": 33,
   "id": "8653d57c",
   "metadata": {},
   "outputs": [],
   "source": [
    "##3"
   ]
  },
  {
   "cell_type": "code",
   "execution_count": 34,
   "id": "183348ad",
   "metadata": {
    "scrolled": true
   },
   "outputs": [
    {
     "name": "stderr",
     "output_type": "stream",
     "text": [
      "                                                                                \r"
     ]
    },
    {
     "name": "stdout",
     "output_type": "stream",
     "text": [
      "+---------------+-----+\n",
      "|       ItemType|count|\n",
      "+---------------+-----+\n",
      "|      Baby Food|   87|\n",
      "|         Cereal|   79|\n",
      "|           Meat|   78|\n",
      "|      Household|   77|\n",
      "|     Vegetables|   97|\n",
      "|      Beverages|  101|\n",
      "|Office Supplies|   89|\n",
      "|      Cosmetics|   75|\n",
      "|  Personal Care|   87|\n",
      "|         Fruits|   70|\n",
      "|         Snacks|   82|\n",
      "|        Clothes|   78|\n",
      "+---------------+-----+\n",
      "\n"
     ]
    }
   ],
   "source": [
    "salesDF.select(\"ItemType\").groupBy(\"ItemType\").count().show()"
   ]
  },
  {
   "cell_type": "code",
   "execution_count": 35,
   "id": "23ab9769",
   "metadata": {},
   "outputs": [
    {
     "name": "stdout",
     "output_type": "stream",
     "text": [
      "root\n",
      " |-- ItemType: string (nullable = true)\n",
      " |-- avg(UnitsSold): double (nullable = true)\n",
      "\n",
      "+---------------+-----------------+\n",
      "|       ItemType|   avg(UnitsSold)|\n",
      "+---------------+-----------------+\n",
      "|      Baby Food|5018.597701149425|\n",
      "|         Cereal|4908.215189873417|\n",
      "|           Meat|5229.679487179487|\n",
      "|      Household|4818.077922077922|\n",
      "|     Vegetables|4858.515463917526|\n",
      "|      Beverages|4999.059405940594|\n",
      "|Office Supplies|4994.179775280899|\n",
      "|      Cosmetics|          5680.96|\n",
      "|  Personal Care|5468.091954022989|\n",
      "|         Fruits|5073.214285714285|\n",
      "|         Snacks|4818.829268292683|\n",
      "|        Clothes|4845.974358974359|\n",
      "+---------------+-----------------+\n",
      "\n"
     ]
    }
   ],
   "source": [
    "aggDF = salesDF.select(\"ItemType\",salesDF.UnitsSold.cast(\"int\"))\\\n",
    "        .groupBy(\"ItemType\").mean(\"UnitsSold\")\n",
    "\n",
    "aggDF.printSchema()\n",
    "aggDF.show()"
   ]
  },
  {
   "cell_type": "code",
   "execution_count": 36,
   "id": "0f1c212e",
   "metadata": {},
   "outputs": [
    {
     "name": "stdout",
     "output_type": "stream",
     "text": [
      "root\n",
      " |-- ItemType: string (nullable = true)\n",
      " |-- avg(Sales_Revenue): double (nullable = true)\n",
      "\n",
      "+---------------+------------------+\n",
      "|       ItemType|avg(Sales_Revenue)|\n",
      "+---------------+------------------+\n",
      "|      Baby Food|1281147.6211494252|\n",
      "|         Cereal| 1009619.864556962|\n",
      "|           Meat|2206349.4788461546|\n",
      "|      Household| 3219776.932987012|\n",
      "|     Vegetables|  748502.892371134|\n",
      "|      Beverages|237205.36881188114|\n",
      "|Office Supplies| 3252259.811460674|\n",
      "|      Cosmetics|2483715.7120000003|\n",
      "|  Personal Care| 446907.1554022989|\n",
      "|         Fruits|  47333.0892857143|\n",
      "|         Snacks|  735256.969756098|\n",
      "|        Clothes|  529568.077948718|\n",
      "+---------------+------------------+\n",
      "\n"
     ]
    }
   ],
   "source": [
    "avgSalesRevenueDF =salesDF.withColumn(\"Sales_Revenue\",salesRevenue)\\\n",
    "        .groupBy(\"ItemType\").mean(\"Sales_Revenue\")\n",
    "\n",
    "avgSalesRevenueDF.printSchema()\n",
    "avgSalesRevenueDF.show()"
   ]
  },
  {
   "cell_type": "code",
   "execution_count": 37,
   "id": "82aed366",
   "metadata": {},
   "outputs": [],
   "source": [
    "##4"
   ]
  },
  {
   "cell_type": "code",
   "execution_count": 38,
   "id": "196edb79",
   "metadata": {},
   "outputs": [],
   "source": [
    "cntQuotaDict = {\"Baby Food\" : 5018, \n",
    " \"Cereal\" :4908, \n",
    " \"Household\" : 5229, \n",
    " \"Vegetables\" : 4818, \n",
    " \"Beverages\" : 4858, \n",
    " \"Office Supplies\" : 4994, \n",
    " \"Cosmetics\" : 5680, \n",
    " \"Personal Care\" : 5468, \n",
    " \"Fruits\" : 5073, \n",
    " \"Snacks\" : 4818, \n",
    " \"Clothes\" : 4845,} \n"
   ]
  },
  {
   "cell_type": "code",
   "execution_count": 39,
   "id": "15c48e83",
   "metadata": {},
   "outputs": [],
   "source": [
    "def cntQuota(item, cnt): \n",
    " meet_this = cntQuotaDict.get(item, None) \n",
    " if meet_this == None: meet_this = 0 \n",
    " my_cnt = int(cnt) \n",
    " return my_cnt > meet_this"
   ]
  },
  {
   "cell_type": "code",
   "execution_count": 40,
   "id": "af24aceb",
   "metadata": {},
   "outputs": [],
   "source": [
    "from pyspark.sql.functions import udf, col \n",
    "from pyspark.sql.types import BooleanType \n",
    "quotaUDF = udf(lambda item, cnt: cntQuota(item, cnt), \n",
    "BooleanType()) "
   ]
  },
  {
   "cell_type": "code",
   "execution_count": 42,
   "id": "2d4899dc",
   "metadata": {},
   "outputs": [
    {
     "name": "stdout",
     "output_type": "stream",
     "text": [
      "root\n",
      " |-- Country: string (nullable = true)\n",
      " |-- Met_Quota: boolean (nullable = true)\n",
      "\n"
     ]
    },
    {
     "name": "stderr",
     "output_type": "stream",
     "text": [
      "\r",
      "[Stage 52:>                                                         (0 + 1) / 1]\r"
     ]
    },
    {
     "name": "stdout",
     "output_type": "stream",
     "text": [
      "+----------+---------+\n",
      "|   Country|Met_Quota|\n",
      "+----------+---------+\n",
      "|     Libya|     true|\n",
      "|    Canada|    false|\n",
      "|     Libya|    false|\n",
      "|     Japan|    false|\n",
      "|      Chad|     true|\n",
      "|   Armenia|     true|\n",
      "|   Eritrea|    false|\n",
      "|Montenegro|     true|\n",
      "|   Jamaica|    false|\n",
      "|      Fiji|    false|\n",
      "|      Togo|    false|\n",
      "|Montenegro|    false|\n",
      "|    Greece|    false|\n",
      "|     Sudan|    false|\n",
      "|  Maldives|     true|\n",
      "|Montenegro|    false|\n",
      "|   Estonia|    false|\n",
      "| Greenland|    false|\n",
      "|Cape Verde|    false|\n",
      "|   Senegal|     true|\n",
      "+----------+---------+\n",
      "only showing top 20 rows\n",
      "\n"
     ]
    },
    {
     "name": "stderr",
     "output_type": "stream",
     "text": [
      "\r",
      "                                                                                \r"
     ]
    }
   ],
   "source": [
    "quotaDF = salesDF.select(\"Country\", quotaUDF(col(\"ItemType\"),col(\"UnitsSold\")).alias(\"Met_Quota\"))\n",
    "\n",
    "quotaDF.printSchema()\n",
    "quotaDF.show()"
   ]
  },
  {
   "cell_type": "code",
   "execution_count": null,
   "id": "2dd48ea4",
   "metadata": {},
   "outputs": [],
   "source": []
  }
 ],
 "metadata": {
  "kernelspec": {
   "display_name": "Python 3 (ipykernel)",
   "language": "python",
   "name": "python3"
  },
  "language_info": {
   "codemirror_mode": {
    "name": "ipython",
    "version": 3
   },
   "file_extension": ".py",
   "mimetype": "text/x-python",
   "name": "python",
   "nbconvert_exporter": "python",
   "pygments_lexer": "ipython3",
   "version": "3.8.11"
  }
 },
 "nbformat": 4,
 "nbformat_minor": 5
}
