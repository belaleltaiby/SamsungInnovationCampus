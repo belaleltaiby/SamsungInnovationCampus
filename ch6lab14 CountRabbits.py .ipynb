{
 "cells": [
  {
   "cell_type": "code",
   "execution_count": 1,
   "id": "9c4cde36",
   "metadata": {},
   "outputs": [],
   "source": [
    "from pyspark import SparkConf\n",
    "sconf = SparkConf().setAppName(\"Bunch O' Rabbits\")"
   ]
  },
  {
   "cell_type": "code",
   "execution_count": 2,
   "id": "a4cb7956",
   "metadata": {},
   "outputs": [],
   "source": [
    "sc.stop()\n",
    "sc = SparkContext(conf = sconf)"
   ]
  },
  {
   "cell_type": "code",
   "execution_count": 3,
   "id": "c32e0ccf",
   "metadata": {},
   "outputs": [],
   "source": [
    "sc.setLogLevel(\"ERROR\")"
   ]
  },
  {
   "cell_type": "code",
   "execution_count": 13,
   "id": "d6a355f3",
   "metadata": {},
   "outputs": [],
   "source": [
    "import sys\n",
    "src = sys.argv[1] \n"
   ]
  },
  {
   "cell_type": "code",
   "execution_count": 14,
   "id": "91a28350",
   "metadata": {},
   "outputs": [
    {
     "data": {
      "text/plain": [
       "'-f'"
      ]
     },
     "execution_count": 14,
     "metadata": {},
     "output_type": "execute_result"
    }
   ],
   "source": [
    "src"
   ]
  },
  {
   "cell_type": "code",
   "execution_count": 18,
   "id": "3795f575",
   "metadata": {},
   "outputs": [],
   "source": [
    "file_rdd = sc.textFile(\"alice.txt\")"
   ]
  },
  {
   "cell_type": "code",
   "execution_count": 20,
   "id": "1622a7a0",
   "metadata": {},
   "outputs": [
    {
     "name": "stderr",
     "output_type": "stream",
     "text": [
      "                                                                                \r"
     ]
    },
    {
     "data": {
      "text/plain": [
       "['The Project Gutenberg eBook of Alice’s Adventures in Wonderland, by Lewis Carroll',\n",
       " '',\n",
       " 'This eBook is for the use of anyone anywhere in the United States and',\n",
       " 'most other parts of the world at no cost and with almost no restrictions',\n",
       " 'whatsoever. You may copy it, give it away or re-use it under the terms']"
      ]
     },
     "execution_count": 20,
     "metadata": {},
     "output_type": "execute_result"
    }
   ],
   "source": [
    "file_rdd.take(5)"
   ]
  },
  {
   "cell_type": "code",
   "execution_count": 21,
   "id": "01c63276",
   "metadata": {},
   "outputs": [
    {
     "data": {
      "text/plain": [
       "['THE PROJECT GUTENBERG EBOOK OF ALICE’S ADVENTURES IN WONDERLAND, BY LEWIS CARROLL',\n",
       " '',\n",
       " 'THIS EBOOK IS FOR THE USE OF ANYONE ANYWHERE IN THE UNITED STATES AND',\n",
       " 'MOST OTHER PARTS OF THE WORLD AT NO COST AND WITH ALMOST NO RESTRICTIONS',\n",
       " 'WHATSOEVER. YOU MAY COPY IT, GIVE IT AWAY OR RE-USE IT UNDER THE TERMS']"
      ]
     },
     "execution_count": 21,
     "metadata": {},
     "output_type": "execute_result"
    }
   ],
   "source": [
    "uppercaseRDD = file_rdd.map(lambda line: line.upper())\n",
    "uppercaseRDD.take(5)"
   ]
  },
  {
   "cell_type": "code",
   "execution_count": 23,
   "id": "cb29db63",
   "metadata": {},
   "outputs": [
    {
     "data": {
      "text/plain": [
       "[' CHAPTER I.     DOWN THE RABBIT-HOLE',\n",
       " ' CHAPTER IV.    THE RABBIT SENDS IN A LITTLE BILL',\n",
       " 'DOWN THE RABBIT-HOLE',\n",
       " 'PICKING THE DAISIES, WHEN SUDDENLY A WHITE RABBIT WITH PINK EYES RAN',\n",
       " 'SO _VERY_ MUCH OUT OF THE WAY TO HEAR THE RABBIT SAY TO ITSELF, “OH']"
      ]
     },
     "execution_count": 23,
     "metadata": {},
     "output_type": "execute_result"
    }
   ],
   "source": [
    "rabbit_rdd = uppercaseRDD.filter(lambda line: \"RABBIT\" in line)\n",
    "rabbit_rdd.take(5)"
   ]
  },
  {
   "cell_type": "code",
   "execution_count": 24,
   "id": "d99d47bc",
   "metadata": {},
   "outputs": [
    {
     "name": "stdout",
     "output_type": "stream",
     "text": [
      "[' CHAPTER I.     DOWN THE RABBIT-HOLE', ' CHAPTER IV.    THE RABBIT SENDS IN A LITTLE BILL', 'DOWN THE RABBIT-HOLE', 'PICKING THE DAISIES, WHEN SUDDENLY A WHITE RABBIT WITH PINK EYES RAN', 'SO _VERY_ MUCH OUT OF THE WAY TO HEAR THE RABBIT SAY TO ITSELF, “OH', 'TIME IT ALL SEEMED QUITE NATURAL); BUT WHEN THE RABBIT ACTUALLY _TOOK A', 'HAD NEVER BEFORE SEEN A RABBIT WITH EITHER A WAISTCOAT-POCKET, OR A', 'LARGE RABBIT-HOLE UNDER THE HEDGE.', 'THE RABBIT-HOLE WENT STRAIGHT ON LIKE A TUNNEL FOR SOME WAY, AND THEN', 'LONG PASSAGE, AND THE WHITE RABBIT WAS STILL IN SIGHT, HURRYING DOWN', 'TURNED THE CORNER, BUT THE RABBIT WAS NO LONGER TO BE SEEN: SHE FOUND', 'RABBIT RETURNING, SPLENDIDLY DRESSED, WITH A PAIR OF WHITE KID GLOVES', 'RABBIT CAME NEAR HER, SHE BEGAN, IN A LOW, TIMID VOICE, “IF YOU PLEASE,', 'SIR—” THE RABBIT STARTED VIOLENTLY, DROPPED THE WHITE KID GLOVES AND', 'THAT SHE HAD PUT ON ONE OF THE RABBIT’S LITTLE WHITE KID GLOVES WHILE', 'THE RABBIT SENDS IN A LITTLE BILL', 'IT WAS THE WHITE RABBIT, TROTTING SLOWLY BACK AGAIN, AND LOOKING', 'VERY SOON THE RABBIT NOTICED ALICE, AS SHE WENT HUNTING ABOUT, AND', 'PLATE WITH THE NAME “W. RABBIT,” ENGRAVED UPON IT. SHE WENT IN WITHOUT', 'A RABBIT! I SUPPOSE DINAH’LL BE SENDING ME ON MESSAGES NEXT!” AND SHE', 'RABBITS. I ALMOST WISH I HADN’T GONE DOWN THAT RABBIT-HOLE—AND YET—AND', 'THE RABBIT COMING TO LOOK FOR HER, AND SHE TREMBLED TILL SHE SHOOK THE', 'LARGE AS THE RABBIT, AND HAD NO REASON TO BE AFRAID OF IT.', 'PRESENTLY THE RABBIT CAME UP TO THE DOOR, AND TRIED TO OPEN IT; BUT, AS', 'SHE HEARD THE RABBIT JUST UNDER THE WINDOW, SHE SUDDENLY SPREAD OUT HER', 'NEXT CAME AN ANGRY VOICE—THE RABBIT’S—“PAT! PAT! WHERE ARE YOU?” AND', '“DIGGING FOR APPLES, INDEED!” SAID THE RABBIT ANGRILY. “HERE! COME AND', 'THEN THE RABBIT’S VOICE ALONG—“CATCH HIM, YOU BY THE HEDGE!” THEN', '“WE MUST BURN THE HOUSE DOWN!” SAID THE RABBIT’S VOICE; AND ALICE', 'ALICE HEARD THE RABBIT SAY, “A BARROWFUL WILL DO, TO BEGIN WITH.”', 'AND AMONG THEM ALICE RECOGNISED THE WHITE RABBIT: IT WAS TALKING IN A', 'WALKING BY THE WHITE RABBIT, WHO WAS PEEPING ANXIOUSLY INTO HER FACE.', '“HUSH! HUSH!” SAID THE RABBIT IN A LOW, HURRIED TONE. HE LOOKED', '“DID YOU SAY ‘WHAT A PITY!’?” THE RABBIT ASKED.', '“SHE BOXED THE QUEEN’S EARS—” THE RABBIT BEGAN. ALICE GAVE A LITTLE', 'SCREAM OF LAUGHTER. “OH, HUSH!” THE RABBIT WHISPERED IN A FRIGHTENED', 'SAW THE WHITE RABBIT. SHE WAS A LITTLE NERVOUS ABOUT IT JUST AT FIRST,', 'HIM; AND NEAR THE KING WAS THE WHITE RABBIT, WITH A TRUMPET IN ONE', 'STOPPED HASTILY, FOR THE WHITE RABBIT CRIED OUT, “SILENCE IN THE', 'ON THIS THE WHITE RABBIT BLEW THREE BLASTS ON THE TRUMPET, AND THEN', '“NOT YET, NOT YET!” THE RABBIT HASTILY INTERRUPTED. “THERE’S A GREAT', '“CALL THE FIRST WITNESS,” SAID THE KING; AND THE WHITE RABBIT BLEW', 'THE KING LOOKED ANXIOUSLY AT THE WHITE RABBIT, WHO SAID IN A LOW VOICE,', 'ALICE WATCHED THE WHITE RABBIT AS HE FUMBLED OVER THE LIST, FEELING', 'SURPRISE, WHEN THE WHITE RABBIT READ OUT, AT THE TOP OF HIS SHRILL', 'RABBIT INTERRUPTED: “_UN_IMPORTANT, YOUR MAJESTY MEANS, OF COURSE,” HE', 'WHITE RABBIT, JUMPING UP IN A GREAT HURRY; “THIS PAPER HAS JUST BEEN', '“I HAVEN’T OPENED IT YET,” SAID THE WHITE RABBIT, “BUT IT SEEMS TO BE A', '“IT ISN’T DIRECTED AT ALL,” SAID THE WHITE RABBIT; “IN FACT, THERE’S', '“NO, THEY’RE NOT,” SAID THE WHITE RABBIT, “AND THAT’S THE QUEEREST', 'THE WHITE RABBIT PUT ON HIS SPECTACLES. “WHERE SHALL I BEGIN, PLEASE', 'THESE WERE THE VERSES THE WHITE RABBIT READ:—', 'THE LONG GRASS RUSTLED AT HER FEET AS THE WHITE RABBIT HURRIED BY—THE']\n"
     ]
    }
   ],
   "source": [
    "print(rabbit_rdd.collect())"
   ]
  },
  {
   "cell_type": "code",
   "execution_count": 25,
   "id": "72f9eec7",
   "metadata": {},
   "outputs": [
    {
     "name": "stdout",
     "output_type": "stream",
     "text": [
      "53\n"
     ]
    }
   ],
   "source": [
    "row_count = rabbit_rdd.count()\n",
    "print(row_count)"
   ]
  },
  {
   "cell_type": "code",
   "execution_count": 26,
   "id": "4e83016a",
   "metadata": {},
   "outputs": [],
   "source": [
    "sc.stop()"
   ]
  },
  {
   "cell_type": "code",
   "execution_count": null,
   "id": "cdc101d3",
   "metadata": {},
   "outputs": [],
   "source": []
  }
 ],
 "metadata": {
  "kernelspec": {
   "display_name": "Python 3 (ipykernel)",
   "language": "python",
   "name": "python3"
  },
  "language_info": {
   "codemirror_mode": {
    "name": "ipython",
    "version": 3
   },
   "file_extension": ".py",
   "mimetype": "text/x-python",
   "name": "python",
   "nbconvert_exporter": "python",
   "pygments_lexer": "ipython3",
   "version": "3.8.11"
  }
 },
 "nbformat": 4,
 "nbformat_minor": 5
}
