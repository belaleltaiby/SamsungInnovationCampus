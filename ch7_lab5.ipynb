{
 "cells": [
  {
   "cell_type": "code",
   "execution_count": 19,
   "id": "0666a830",
   "metadata": {},
   "outputs": [],
   "source": [
    "from pyspark.ml.clustering import KMeans \n",
    "from pyspark.ml.evaluation import ClusteringEvaluator "
   ]
  },
  {
   "cell_type": "code",
   "execution_count": 22,
   "id": "358bf627",
   "metadata": {},
   "outputs": [
    {
     "name": "stderr",
     "output_type": "stream",
     "text": [
      "2024-10-01 04:39:09,736 WARN libsvm.LibSVMFileFormat: 'numFeatures' option not specified, determining the number of features by going though the input. If you know the number in advance, please specify it via 'numFeatures' option to avoid the extra scan.\n"
     ]
    },
    {
     "name": "stdout",
     "output_type": "stream",
     "text": [
      "+-----+--------------------+\n",
      "|label|            features|\n",
      "+-----+--------------------+\n",
      "|  1.0|(3,[0,1,2],[0.43,...|\n",
      "|  0.0|(3,[0,1,2],[0.25,...|\n",
      "|  1.0|(3,[0,1,2],[0.56,...|\n",
      "|  0.0|(3,[0,1,2],[0.11,...|\n",
      "+-----+--------------------+\n",
      "\n"
     ]
    }
   ],
   "source": [
    "# Load the data in libsvm format\n",
    "dataset = spark.read.format(\"libsvm\").load(\"file:///home/student/Data/sample_kmeans_data.txt\")\n",
    "\n",
    "# Show the data\n",
    "dataset.show()\n"
   ]
  },
  {
   "cell_type": "code",
   "execution_count": 23,
   "id": "9ee08a03",
   "metadata": {},
   "outputs": [
    {
     "name": "stderr",
     "output_type": "stream",
     "text": [
      "2024-10-01 04:39:26,536 WARN netlib.BLAS: Failed to load implementation from: com.github.fommil.netlib.NativeSystemBLAS\n",
      "2024-10-01 04:39:26,541 WARN netlib.BLAS: Failed to load implementation from: com.github.fommil.netlib.NativeRefBLAS\n",
      "                                                                                \r"
     ]
    }
   ],
   "source": [
    "kmeans = KMeans().setK(2).setSeed(1) \n",
    "model = kmeans.fit(dataset) "
   ]
  },
  {
   "cell_type": "code",
   "execution_count": 25,
   "id": "c20e3a83",
   "metadata": {},
   "outputs": [],
   "source": [
    "# Make predictions \n",
    "predictions = model.transform(dataset)"
   ]
  },
  {
   "cell_type": "code",
   "execution_count": 26,
   "id": "8f4503ac",
   "metadata": {},
   "outputs": [
    {
     "name": "stdout",
     "output_type": "stream",
     "text": [
      "Silhouette with squared euclidean distance = 0.22360608010559077\n"
     ]
    }
   ],
   "source": [
    "evaluator = ClusteringEvaluator() \n",
    "silhouette = evaluator.evaluate(predictions) \n",
    "print(\"Silhouette with squared euclidean distance = \" + str(silhouette))"
   ]
  },
  {
   "cell_type": "code",
   "execution_count": 27,
   "id": "3f56419c",
   "metadata": {},
   "outputs": [
    {
     "name": "stdout",
     "output_type": "stream",
     "text": [
      "Cluster Centers: \n",
      "[0.34  0.23  0.705]\n",
      "[0.335 0.76  0.605]\n"
     ]
    }
   ],
   "source": [
    "centers = model.clusterCenters() \n",
    "print(\"Cluster Centers: \") \n",
    "for center in centers: \n",
    " print(center) "
   ]
  },
  {
   "cell_type": "code",
   "execution_count": null,
   "id": "5ca97533",
   "metadata": {},
   "outputs": [],
   "source": []
  }
 ],
 "metadata": {
  "kernelspec": {
   "display_name": "Python 3 (ipykernel)",
   "language": "python",
   "name": "python3"
  },
  "language_info": {
   "codemirror_mode": {
    "name": "ipython",
    "version": 3
   },
   "file_extension": ".py",
   "mimetype": "text/x-python",
   "name": "python",
   "nbconvert_exporter": "python",
   "pygments_lexer": "ipython3",
   "version": "3.8.11"
  }
 },
 "nbformat": 4,
 "nbformat_minor": 5
}
