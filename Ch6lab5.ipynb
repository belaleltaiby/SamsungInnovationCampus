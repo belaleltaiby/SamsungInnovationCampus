{
 "cells": [
  {
   "cell_type": "code",
   "execution_count": 1,
   "id": "35bd28db",
   "metadata": {},
   "outputs": [
    {
     "name": "stderr",
     "output_type": "stream",
     "text": [
      "                                                                                \r"
     ]
    },
    {
     "data": {
      "text/plain": [
       "[(1, ('Walton', 'Adams')),\n",
       " (2, ('Marietta', 'Walsh')),\n",
       " (3, ('Lily', 'Wintheiser')),\n",
       " (4, ('Estevan', 'Gleason')),\n",
       " (5, ('Thaddeus', 'Rowe'))]"
      ]
     },
     "execution_count": 1,
     "metadata": {},
     "output_type": "execute_result"
    }
   ],
   "source": [
    "src = \"/user/student/authors/\"\n",
    "authorNameRDD = sc.textFile(src)\\\n",
    "    .map(lambda line: (int(line.split(\",\")[0]),(line.split(\",\")[1],line.split(\",\")[2])))\n",
    "\n",
    "authorNameRDD.take(5)"
   ]
  },
  {
   "cell_type": "code",
   "execution_count": 2,
   "id": "38373f96",
   "metadata": {},
   "outputs": [
    {
     "data": {
      "text/plain": [
       "[('1', ('1', 'Cupiditate')),\n",
       " ('2', ('2', 'Excepturi ')),\n",
       " ('3', ('3', 'Enim rerum')),\n",
       " ('4', ('4', 'Labore ips')),\n",
       " ('5', ('5', 'Placeat ex'))]"
      ]
     },
     "execution_count": 2,
     "metadata": {},
     "output_type": "execute_result"
    }
   ],
   "source": [
    "src = \"/user/student/posts/\"\n",
    "postsRDD = sc.textFile(src)\\\n",
    "        .map(lambda line: (line.split(\",\")[0],\n",
    "                        (line.split(\",\")[1],line.split(\",\")[2][0:10])))\n",
    "postsRDD.take(5)"
   ]
  },
  {
   "cell_type": "code",
   "execution_count": 4,
   "id": "4a457b8d",
   "metadata": {},
   "outputs": [
    {
     "data": {
      "text/plain": [
       "[(1, 'Samsung Galaxy s21 Ultra'),\n",
       " (2, 'Samsung Galaxy A52s'),\n",
       " (3, 'Samsung Galaxy Z Fold3'),\n",
       " (4, 'Apple iPhone 7'),\n",
       " (5, 'Apple iPhone 11')]"
      ]
     },
     "execution_count": 4,
     "metadata": {},
     "output_type": "execute_result"
    }
   ],
   "source": [
    "import json\n",
    "\n",
    "def setPhoneName(s):\n",
    "    if s == \"\" :return \"Unknown\"\n",
    "    elif \",\" in s: return s.replace(\",\", \"or\")\n",
    "    else: return s\n",
    "    \n",
    "src = \"/user/student/author_phone.json\"\n",
    "phoneRDD = sc.wholeTextFiles(src)\\\n",
    "        .flatMap(lambda tup: json.loads(tup[1]))\\\n",
    "        .map(lambda kv: (kv.get(\"author_id\",None),kv.get(\"phone_model\",None)))\\\n",
    "        .map(lambda kv: (kv[0],setPhoneName(kv[1])))\n",
    "\n",
    "\n",
    "phoneRDD.take(5)"
   ]
  },
  {
   "cell_type": "code",
   "execution_count": 5,
   "id": "43bbe63f",
   "metadata": {},
   "outputs": [],
   "source": [
    "import xml.etree.ElementTree as ET\n",
    "def getPosts(s):\n",
    "    posts = ET.fromstring(s)\n",
    "    return posts.iter(\"record\")\n",
    "\n",
    "def getPostID(elem):\n",
    "    return elem.find(\"post_id\").text\n",
    "\n",
    "def getPostLocation(elem):\n",
    "    return elem.find(\"location\").text"
   ]
  },
  {
   "cell_type": "code",
   "execution_count": 12,
   "id": "6e457bf7",
   "metadata": {},
   "outputs": [
    {
     "name": "stderr",
     "output_type": "stream",
     "text": [
      "2024-08-30 06:59:36,418 WARN impl.BlockReaderFactory: I/O error constructing remote block reader.\n",
      "java.nio.channels.ClosedByInterruptException\n",
      "\tat java.nio.channels.spi.AbstractInterruptibleChannel.end(AbstractInterruptibleChannel.java:202)\n",
      "\tat sun.nio.ch.SocketChannelImpl.connect(SocketChannelImpl.java:657)\n",
      "\tat org.apache.hadoop.net.SocketIOWithTimeout.connect(SocketIOWithTimeout.java:192)\n",
      "\tat org.apache.hadoop.net.NetUtils.connect(NetUtils.java:531)\n",
      "\tat org.apache.hadoop.hdfs.DFSClient.newConnectedPeer(DFSClient.java:2939)\n",
      "\tat org.apache.hadoop.hdfs.client.impl.BlockReaderFactory.nextTcpPeer(BlockReaderFactory.java:821)\n",
      "\tat org.apache.hadoop.hdfs.client.impl.BlockReaderFactory.getRemoteBlockReaderFromTcp(BlockReaderFactory.java:746)\n",
      "\tat org.apache.hadoop.hdfs.client.impl.BlockReaderFactory.build(BlockReaderFactory.java:379)\n",
      "\tat org.apache.hadoop.hdfs.DFSInputStream.getBlockReader(DFSInputStream.java:644)\n",
      "\tat org.apache.hadoop.hdfs.DFSInputStream.blockSeekTo(DFSInputStream.java:575)\n",
      "\tat org.apache.hadoop.hdfs.DFSInputStream.readWithStrategy(DFSInputStream.java:757)\n",
      "\tat org.apache.hadoop.hdfs.DFSInputStream.read(DFSInputStream.java:829)\n",
      "\tat java.io.DataInputStream.read(DataInputStream.java:100)\n",
      "\tat org.sparkproject.guava.io.ByteStreams.copy(ByteStreams.java:207)\n",
      "\tat org.sparkproject.guava.io.ByteStreams.toByteArray(ByteStreams.java:252)\n",
      "\tat org.apache.spark.input.WholeTextFileRecordReader.nextKeyValue(WholeTextFileRecordReader.scala:79)\n",
      "\tat org.apache.hadoop.mapreduce.lib.input.CombineFileRecordReader.nextKeyValue(CombineFileRecordReader.java:65)\n",
      "\tat org.apache.spark.rdd.NewHadoopRDD$$anon$1.hasNext(NewHadoopRDD.scala:247)\n",
      "\tat org.apache.spark.InterruptibleIterator.hasNext(InterruptibleIterator.scala:37)\n",
      "\tat scala.collection.Iterator$$anon$10.hasNext(Iterator.scala:458)\n",
      "\tat scala.collection.Iterator.foreach(Iterator.scala:941)\n",
      "\tat scala.collection.Iterator.foreach$(Iterator.scala:941)\n",
      "\tat scala.collection.AbstractIterator.foreach(Iterator.scala:1429)\n",
      "\tat org.apache.spark.api.python.PythonRDD$.writeIteratorToStream(PythonRDD.scala:307)\n",
      "\tat org.apache.spark.api.python.PythonRunner$$anon$2.writeIteratorToStream(PythonRunner.scala:621)\n",
      "\tat org.apache.spark.api.python.BasePythonRunner$WriterThread.$anonfun$run$1(PythonRunner.scala:397)\n",
      "\tat org.apache.spark.util.Utils$.logUncaughtExceptions(Utils.scala:1996)\n",
      "\tat org.apache.spark.api.python.BasePythonRunner$WriterThread.run(PythonRunner.scala:232)\n"
     ]
    },
    {
     "data": {
      "text/plain": [
       "[('1', ('-78.67343', ' 146.15251')),\n",
       " ('2', ('-24.8449', ' 71.73862')),\n",
       " ('3', ('33.15167', ' 90.2584')),\n",
       " ('4', ('78.53576', ' -113.2306')),\n",
       " ('5', ('37.09904', ' 141.78509'))]"
      ]
     },
     "execution_count": 12,
     "metadata": {},
     "output_type": "execute_result"
    }
   ],
   "source": [
    "latLongRDD = sc.wholeTextFiles(\"post_records/*\")\\\n",
    "    .flatMap(lambda xmls: getPosts(xmls[1])) \\\n",
    "    .map(lambda element: (getPostID(element),tuple(getPostLocation(element).split(\",\") ) ) )\n",
    "latLongRDD.take(5)"
   ]
  },
  {
   "cell_type": "code",
   "execution_count": 13,
   "id": "90efe874",
   "metadata": {},
   "outputs": [
    {
     "name": "stderr",
     "output_type": "stream",
     "text": [
      "\r",
      "[Stage 15:==================================>                       (3 + 2) / 5]\r",
      "\r",
      "                                                                                \r"
     ]
    },
    {
     "data": {
      "text/plain": [
       "[(5, (('Thaddeus', 'Rowe'), 'Apple iPhone 11')),\n",
       " (10, (('Dewitt', 'Smitham'), 'Unknown')),\n",
       " (15, (('Brenda', 'Mayer'), 'Apple iPhone 8')),\n",
       " (20, (('Wilfredo', 'Yundt'), 'Samsung Galaxy A12or Apple iPhone 6')),\n",
       " (25, (('Westley', 'Rempel'), 'Unknown'))]"
      ]
     },
     "execution_count": 13,
     "metadata": {},
     "output_type": "execute_result"
    }
   ],
   "source": [
    "authorPhoneRDD = authorNameRDD.join(phoneRDD)\n",
    "authorPhoneRDD.take(5)"
   ]
  },
  {
   "cell_type": "code",
   "execution_count": 8,
   "id": "b7f7a6b2",
   "metadata": {},
   "outputs": [
    {
     "data": {
      "text/plain": [
       "10000"
      ]
     },
     "execution_count": 8,
     "metadata": {},
     "output_type": "execute_result"
    }
   ],
   "source": [
    "authorPhoneRDD.count()"
   ]
  },
  {
   "cell_type": "code",
   "execution_count": 9,
   "id": "93a6ad1f",
   "metadata": {},
   "outputs": [
    {
     "name": "stderr",
     "output_type": "stream",
     "text": [
      "                                                                                \r"
     ]
    },
    {
     "data": {
      "text/plain": [
       "[('4', (('4', 'Labore ips'), ('78.53576', ' -113.2306'))),\n",
       " ('16', (('16', 'Eius ea ha'), ('41.55404', ' 7.26911'))),\n",
       " ('20', (('20', 'Facere atq'), ('71.33242', ' 7.33176'))),\n",
       " ('22', (('22', 'Sint iusto'), ('2.78725', ' 124.55732'))),\n",
       " ('24', (('24', 'Dolorem ve'), ('56.27864', ' -115.38594')))]"
      ]
     },
     "execution_count": 9,
     "metadata": {},
     "output_type": "execute_result"
    }
   ],
   "source": [
    "postLocationRDD  = postsRDD.join(latLongRDD)\n",
    "postLocationRDD.take(5)"
   ]
  },
  {
   "cell_type": "code",
   "execution_count": 10,
   "id": "dd219faa",
   "metadata": {},
   "outputs": [
    {
     "name": "stderr",
     "output_type": "stream",
     "text": [
      "                                                                                \r"
     ]
    },
    {
     "data": {
      "text/plain": [
       "110000"
      ]
     },
     "execution_count": 10,
     "metadata": {},
     "output_type": "execute_result"
    }
   ],
   "source": [
    "postLocationRDD.count()"
   ]
  },
  {
   "cell_type": "code",
   "execution_count": 11,
   "id": "92599137",
   "metadata": {},
   "outputs": [
    {
     "data": {
      "text/plain": [
       "[(4, ['Labore ips', '78.53576', ' -113.2306']),\n",
       " (16, ['Eius ea ha', '41.55404', ' 7.26911']),\n",
       " (20, ['Facere atq', '71.33242', ' 7.33176']),\n",
       " (22, ['Sint iusto', '2.78725', ' 124.55732']),\n",
       " (24, ['Dolorem ve', '56.27864', ' -115.38594'])]"
      ]
     },
     "execution_count": 11,
     "metadata": {},
     "output_type": "execute_result"
    }
   ],
   "source": [
    "authorPostLocationRDD = postLocationRDD\\\n",
    ".map(lambda tup:(int(tup[1][0][0]),[tup[1][0][1],tup[1][1][0],tup[1][1][1]] ) )\n",
    "authorPostLocationRDD.take(5)"
   ]
  },
  {
   "cell_type": "code",
   "execution_count": 14,
   "id": "0796501d",
   "metadata": {},
   "outputs": [
    {
     "data": {
      "text/plain": [
       "[(5, ['Thaddeus', 'Rowe', 'Apple iPhone 11']),\n",
       " (10, ['Dewitt', 'Smitham', 'Unknown']),\n",
       " (15, ['Brenda', 'Mayer', 'Apple iPhone 8']),\n",
       " (20, ['Wilfredo', 'Yundt', 'Samsung Galaxy A12or Apple iPhone 6']),\n",
       " (25, ['Westley', 'Rempel', 'Unknown'])]"
      ]
     },
     "execution_count": 14,
     "metadata": {},
     "output_type": "execute_result"
    }
   ],
   "source": [
    "authorNamePhoneRDD = authorPhoneRDD\\\n",
    ".map(lambda tup: (tup[0],[tup[1][0][0],tup[1][0][1],tup[1][1]]) )\n",
    "\n",
    "authorNamePhoneRDD.take(5)"
   ]
  },
  {
   "cell_type": "code",
   "execution_count": 15,
   "id": "50bd6777",
   "metadata": {},
   "outputs": [
    {
     "name": "stderr",
     "output_type": "stream",
     "text": [
      "                                                                                \r"
     ]
    },
    {
     "data": {
      "text/plain": [
       "[('Brigitte Shanahan on Unknown',\n",
       "  'Posted Et sit har from lat: 70.80241 lon: 32.37947'),\n",
       " ('Brigitte Shanahan on Unknown',\n",
       "  'Posted Voluptates from lat: -64.13821 lon: -129.31313'),\n",
       " ('Brigitte Shanahan on Unknown',\n",
       "  'Posted Vel debiti from lat: -15.29791 lon: -110.17868'),\n",
       " ('Brigitte Shanahan on Unknown',\n",
       "  'Posted Debitis am from lat: 30.79221 lon: 73.33461'),\n",
       " ('Brigitte Shanahan on Unknown',\n",
       "  'Posted Possimus n from lat: 56.51724 lon: 19.96479')]"
      ]
     },
     "execution_count": 15,
     "metadata": {},
     "output_type": "execute_result"
    }
   ],
   "source": [
    "nameTitlePhoneLocRDD = authorNamePhoneRDD.join(authorPostLocationRDD)\\\n",
    ".map(lambda tup: \n",
    "     (tup[1][0][0]+\" \"+tup[1][0][1]+\" on \"+tup[1][0][2],\n",
    "      \"Posted \"+tup[1][1][0]+\" from lat: \"+tup[1][1][1]+\" lon:\"+tup[1][1][2] ) )\n",
    "nameTitlePhoneLocRDD.take(5)"
   ]
  },
  {
   "cell_type": "code",
   "execution_count": 16,
   "id": "040188a0",
   "metadata": {},
   "outputs": [
    {
     "name": "stderr",
     "output_type": "stream",
     "text": [
      "                                                                                \r"
     ]
    },
    {
     "data": {
      "text/plain": [
       "[('Laurianne Jerde on Samsung Galaxy S21',\n",
       "  ['Posted Id repudia from lat: -70.76073 lon: 150.41541',\n",
       "   'Posted Eos nihil  from lat: -60.27312 lon: 0.28329',\n",
       "   'Posted Neque nam  from lat: -15.1393 lon: -153.41288',\n",
       "   'Posted Quam exped from lat: 59.64538 lon: 162.21816',\n",
       "   'Posted Vero enim  from lat: 75.63085 lon: -179.84681',\n",
       "   'Posted Explicabo  from lat: 28.53925 lon: 39.01707',\n",
       "   'Posted Quis corru from lat: 18.68474 lon: -134.40318',\n",
       "   'Posted Repellat i from lat: -21.51617 lon: -178.06651',\n",
       "   'Posted Magni blan from lat: -63.58662 lon: -126.2323',\n",
       "   'Posted Qui non as from lat: 59.41561 lon: 140.52858',\n",
       "   'Posted Est at exc from lat: -19.77205 lon: -22.35178']),\n",
       " ('Theodora Nicolas on Unknown',\n",
       "  ['Posted Id odio di from lat: 60.95745 lon: 165.47261',\n",
       "   'Posted Vel consec from lat: -0.87067 lon: 98.3268',\n",
       "   'Posted Ea ea corr from lat: 24.36141 lon: -16.24',\n",
       "   'Posted Dolor dolo from lat: -10.56048 lon: -177.68041',\n",
       "   'Posted Delectus c from lat: -19.3932 lon: -116.58581',\n",
       "   'Posted Dicta nesc from lat: 6.52134 lon: 74.41023',\n",
       "   'Posted Tempora qu from lat: 65.80853 lon: -96.85641',\n",
       "   'Posted Quis verit from lat: 12.82261 lon: 33.00807',\n",
       "   'Posted Ipsam quae from lat: -8.92964 lon: -108.6568',\n",
       "   'Posted Accusantiu from lat: 30.05355 lon: -83.10026',\n",
       "   'Posted Iure velit from lat: -67.15977 lon: 16.55862']),\n",
       " ('Bernardo Douglas on Samsung Galaxy A52sor Samsung Galaxy S20',\n",
       "  ['Posted Quisquam e from lat: -20.56211 lon: 106.71601',\n",
       "   'Posted Ut sed dol from lat: 87.77687 lon: 94.72262',\n",
       "   'Posted Et exceptu from lat: 84.75203 lon: 96.63693',\n",
       "   'Posted Quasi aspe from lat: 39.88766 lon: -75.43289',\n",
       "   'Posted Tenetur qu from lat: -85.44905 lon: -138.3444',\n",
       "   'Posted Consequatu from lat: -38.4176 lon: -109.78321',\n",
       "   'Posted Dolorem et from lat: 80.50508 lon: 126.68183',\n",
       "   'Posted Ullam offi from lat: 27.67658 lon: -27.78677',\n",
       "   'Posted Maiores ei from lat: -40.2231 lon: 48.26095',\n",
       "   'Posted Soluta aut from lat: 64.21041 lon: -110.03809',\n",
       "   'Posted Qui repell from lat: 57.89907 lon: -167.04531']),\n",
       " ('Manuela Simonis on Samsung Galaxy Z Fold3or Apple iPhone 5',\n",
       "  ['Posted Cum vitae  from lat: -32.77493 lon: -148.97027',\n",
       "   'Posted Est volupt from lat: -83.373 lon: 145.34065',\n",
       "   'Posted Sed nobis  from lat: -20.72433 lon: -120.58465',\n",
       "   'Posted Est id vol from lat: -72.11021 lon: 120.92388',\n",
       "   'Posted Sed cumque from lat: 72.951 lon: -114.05784',\n",
       "   'Posted Cumque vol from lat: -43.12786 lon: -87.65573',\n",
       "   'Posted Magni omni from lat: 7.87211 lon: 104.9107',\n",
       "   'Posted Vel et eni from lat: -40.77471 lon: 24.27607',\n",
       "   'Posted Nam nemo u from lat: -9.15123 lon: -53.64589',\n",
       "   'Posted Harum accu from lat: 2.17803 lon: 110.42113',\n",
       "   'Posted Et incidun from lat: -18.41246 lon: 16.62813']),\n",
       " ('Rodolfo Will on Unknown',\n",
       "  ['Posted Numquam fu from lat: -44.8536 lon: 148.99115',\n",
       "   'Posted Laboriosam from lat: -80.42673 lon: -158.10129',\n",
       "   'Posted Consectetu from lat: -70.57578 lon: -113.24809',\n",
       "   'Posted Et esse ni from lat: -41.59669 lon: 76.07817',\n",
       "   'Posted Totam est  from lat: 10.97619 lon: 169.78154',\n",
       "   'Posted Et vel exp from lat: 4.52976 lon: -2.34918',\n",
       "   'Posted Est sunt r from lat: 37.36874 lon: -29.10476',\n",
       "   'Posted Optio non  from lat: 28.49852 lon: 123.30139',\n",
       "   'Posted Quia in se from lat: 54.48167 lon: -114.4119',\n",
       "   'Posted Inventore  from lat: 76.3897 lon: -99.48951',\n",
       "   'Posted Autem rati from lat: -43.75018 lon: -144.92193'])]"
      ]
     },
     "execution_count": 16,
     "metadata": {},
     "output_type": "execute_result"
    }
   ],
   "source": [
    "ZeroValue =[]\n",
    "\n",
    "def seqOp(accumulator,element):\n",
    "    accumulator.append(element)\n",
    "    return accumulator\n",
    "\n",
    "def combOp(accumulator1,accumulator2):\n",
    "    return accumulator1 + accumulator2\n",
    "\n",
    "finalRDD = nameTitlePhoneLocRDD.aggregateByKey(ZeroValue,seqOp,combOp)\n",
    "\n",
    "finalRDD.take(5)\n"
   ]
  },
  {
   "cell_type": "code",
   "execution_count": null,
   "id": "994e9930",
   "metadata": {},
   "outputs": [],
   "source": []
  }
 ],
 "metadata": {
  "kernelspec": {
   "display_name": "Python 3 (ipykernel)",
   "language": "python",
   "name": "python3"
  },
  "language_info": {
   "codemirror_mode": {
    "name": "ipython",
    "version": 3
   },
   "file_extension": ".py",
   "mimetype": "text/x-python",
   "name": "python",
   "nbconvert_exporter": "python",
   "pygments_lexer": "ipython3",
   "version": "3.8.11"
  }
 },
 "nbformat": 4,
 "nbformat_minor": 5
}
