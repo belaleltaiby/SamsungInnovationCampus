{
 "cells": [
  {
   "cell_type": "code",
   "execution_count": 1,
   "id": "01098a7b",
   "metadata": {},
   "outputs": [
    {
     "name": "stderr",
     "output_type": "stream",
     "text": [
      "2024-08-29 07:53:17,806 WARN conf.HiveConf: HiveConf of name hive.stats.jdbc.timeout does not exist\n",
      "2024-08-29 07:53:17,807 WARN conf.HiveConf: HiveConf of name hive.stats.retries.wait does not exist\n",
      "2024-08-29 07:53:20,248 WARN metastore.ObjectStore: Failed to get database global_temp, returning NoSuchObjectException\n"
     ]
    },
    {
     "name": "stdout",
     "output_type": "stream",
     "text": [
      "root\n",
      " |-- id: integer (nullable = true)\n",
      " |-- first_name: string (nullable = true)\n",
      " |-- last_name: string (nullable = true)\n",
      " |-- email: string (nullable = true)\n",
      " |-- birthdate: string (nullable = true)\n",
      " |-- added: string (nullable = true)\n",
      "\n"
     ]
    },
    {
     "name": "stderr",
     "output_type": "stream",
     "text": [
      "\r",
      "[Stage 0:>                                                          (0 + 1) / 1]\r"
     ]
    },
    {
     "name": "stdout",
     "output_type": "stream",
     "text": [
      "+---+----------+----------+--------------------+----------+--------------------+\n",
      "| id|first_name| last_name|               email| birthdate|               added|\n",
      "+---+----------+----------+--------------------+----------+--------------------+\n",
      "|  1|    Walton|     Adams|barmstrong@exampl...|1989-03-01|1997-01-02 04:18:...|\n",
      "|  2|  Marietta|     Walsh|hand.stella@examp...|2018-05-30|2010-08-26 18:20:...|\n",
      "|  3|      Lily|Wintheiser|darren.blanda@exa...|1981-08-21|1973-06-11 07:28:...|\n",
      "|  4|   Estevan|   Gleason|shanahan.aliyah@e...|2013-07-17|1995-01-29 16:08:...|\n",
      "|  5|  Thaddeus|      Rowe|bednar.robin@exam...|2019-02-26|2017-01-05 04:13:...|\n",
      "+---+----------+----------+--------------------+----------+--------------------+\n",
      "only showing top 5 rows\n",
      "\n"
     ]
    },
    {
     "name": "stderr",
     "output_type": "stream",
     "text": [
      "\r",
      "                                                                                \r"
     ]
    }
   ],
   "source": [
    "authorDF = spark.read.table(\"mydb.authors\")\n",
    "authorDF.printSchema()\n",
    "authorDF.show(5)"
   ]
  },
  {
   "cell_type": "code",
   "execution_count": 2,
   "id": "a4923309",
   "metadata": {},
   "outputs": [
    {
     "name": "stdout",
     "output_type": "stream",
     "text": [
      "root\n",
      " |-- id: integer (nullable = true)\n",
      " |-- email: string (nullable = true)\n",
      " |-- birthdate: string (nullable = true)\n",
      "\n"
     ]
    }
   ],
   "source": [
    "bdayDF = authorDF.select(\"id\",\"email\",\"birthdate\")\n",
    "bdayDF.printSchema()"
   ]
  },
  {
   "cell_type": "code",
   "execution_count": 3,
   "id": "7c30a561",
   "metadata": {},
   "outputs": [
    {
     "name": "stdout",
     "output_type": "stream",
     "text": [
      "+---+---------------------------+----------+\n",
      "|id |email                      |birthdate |\n",
      "+---+---------------------------+----------+\n",
      "|1  |barmstrong@example.com     |1989-03-01|\n",
      "|2  |hand.stella@example.net    |2018-05-30|\n",
      "|3  |darren.blanda@example.org  |1981-08-21|\n",
      "|4  |shanahan.aliyah@example.net|2013-07-17|\n",
      "|5  |bednar.robin@example.net   |2019-02-26|\n",
      "+---+---------------------------+----------+\n",
      "only showing top 5 rows\n",
      "\n"
     ]
    }
   ],
   "source": [
    "bdayDF.show(5,truncate=False)"
   ]
  },
  {
   "cell_type": "code",
   "execution_count": 4,
   "id": "99a60457",
   "metadata": {},
   "outputs": [
    {
     "name": "stderr",
     "output_type": "stream",
     "text": [
      "2024-08-29 07:56:07,554 WARN session.SessionState: METASTORE_FILTER_HOOK will be ignored, since hive.security.authorization.manager is set to instance of HiveAuthorizerFactory.\n",
      "2024-08-29 07:56:07,653 WARN conf.HiveConf: HiveConf of name hive.internal.ss.authz.settings.applied.marker does not exist\n",
      "2024-08-29 07:56:07,653 WARN conf.HiveConf: HiveConf of name hive.stats.jdbc.timeout does not exist\n",
      "2024-08-29 07:56:07,654 WARN conf.HiveConf: HiveConf of name hive.stats.retries.wait does not exist\n"
     ]
    }
   ],
   "source": [
    "bdayDF.write.saveAsTable(\"mydb.author_bday\")"
   ]
  },
  {
   "cell_type": "code",
   "execution_count": 5,
   "id": "b61f77f6",
   "metadata": {},
   "outputs": [
    {
     "ename": "NameError",
     "evalue": "name 'nameDF' is not defined",
     "output_type": "error",
     "traceback": [
      "\u001b[0;31m---------------------------------------------------------------------------\u001b[0m",
      "\u001b[0;31mNameError\u001b[0m                                 Traceback (most recent call last)",
      "\u001b[0;32m/tmp/ipykernel_21167/2561412759.py\u001b[0m in \u001b[0;36m<module>\u001b[0;34m\u001b[0m\n\u001b[0;32m----> 1\u001b[0;31m \u001b[0mnameDF\u001b[0m\u001b[0;34m.\u001b[0m\u001b[0mprintSchema\u001b[0m\u001b[0;34m(\u001b[0m\u001b[0;34m)\u001b[0m\u001b[0;34m\u001b[0m\u001b[0;34m\u001b[0m\u001b[0m\n\u001b[0m",
      "\u001b[0;31mNameError\u001b[0m: name 'nameDF' is not defined"
     ]
    }
   ],
   "source": [
    "nameDF.printSchema()\n"
   ]
  },
  {
   "cell_type": "code",
   "execution_count": null,
   "id": "53e718c9",
   "metadata": {},
   "outputs": [],
   "source": []
  }
 ],
 "metadata": {
  "kernelspec": {
   "display_name": "Python 3 (ipykernel)",
   "language": "python",
   "name": "python3"
  },
  "language_info": {
   "codemirror_mode": {
    "name": "ipython",
    "version": 3
   },
   "file_extension": ".py",
   "mimetype": "text/x-python",
   "name": "python",
   "nbconvert_exporter": "python",
   "pygments_lexer": "ipython3",
   "version": "3.8.11"
  }
 },
 "nbformat": 4,
 "nbformat_minor": 5
}
